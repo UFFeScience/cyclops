{
 "cells": [
  {
   "cell_type": "markdown",
   "id": "9c6700e9-bb52-48a2-a0d6-2b0e892eb13b",
   "metadata": {},
   "source": [
    "# Import\n",
    "* !pip show pandas\n",
    "* !pip install jupyter ipywidgets\n",
    "* !pip install --upgrade pip\n",
    "* !pip install tabulate matplotlib pandas"
   ]
  },
  {
   "cell_type": "code",
   "execution_count": 91,
   "id": "62ab1c88-d9f6-4605-afdb-df3000dfdb6f",
   "metadata": {},
   "outputs": [],
   "source": [
    "import io\n",
    "import ipywidgets as widgets\n",
    "from ipywidgets import Output\n",
    "from IPython.display import display\n",
    "import matplotlib.pyplot as plt\n",
    "import pandas as pd\n",
    "import re\n",
    "out = Output()\n",
    "out_hist = Output()"
   ]
  },
  {
   "cell_type": "code",
   "execution_count": 92,
   "id": "520a428a-6246-4acd-8dc7-43e94185daa1",
   "metadata": {},
   "outputs": [],
   "source": [
    "from biblioteca import listar_pastas, list_alphas_ordered\n",
    "# import biblioteca\n",
    "path_to_project = '/home/wsl/git/Wf-Security/heuristic_and_exact_solutions'\n",
    "output_folder = 'output'\n",
    "output_file_name = 'wf_security_executions.csv'"
   ]
  },
  {
   "cell_type": "code",
   "execution_count": 93,
   "id": "6b42ca20-b31c-4f71-ad89-30463bf57d58",
   "metadata": {},
   "outputs": [],
   "source": [
    "outputs = listar_pastas(f'{path_to_project}/{output_folder}')\n",
    "executions = None\n",
    "instances = ['All']\n",
    "scenarios = []\n",
    "alphas = []"
   ]
  },
  {
   "cell_type": "code",
   "execution_count": 94,
   "id": "0a798cbc-34de-405f-8ca7-8810a63d7cb2",
   "metadata": {},
   "outputs": [],
   "source": [
    "dd_outputs = widgets.Dropdown(options=outputs, description='Output')\n",
    "dd_instances = widgets.Dropdown(options=instances, description='Instance')\n",
    "dd_scenarios = widgets.Dropdown(options=scenarios, description='Scenario')\n",
    "dd_alphas = widgets.Dropdown(options=alphas, description='Alphas')\n",
    "hbox1 = widgets.HBox([dd_outputs])\n",
    "hbox2 = widgets.HBox([dd_instances, dd_scenarios, dd_alphas])\n",
    "vbox = widgets.VBox([hbox1, hbox2])\n",
    "tab = widgets.Tab()\n",
    "tab.children = [out, out_hist]\n",
    "tab.set_title(0, 'Table')\n",
    "tab.set_title(1, 'Histogram')"
   ]
  },
  {
   "cell_type": "code",
   "execution_count": 95,
   "id": "6b46671f-fd94-4a0c-a887-842c3715581a",
   "metadata": {},
   "outputs": [],
   "source": [
    "def background_color(index, num_columns):\n",
    "    quotient = int(index) // 2\n",
    "    if quotient % 2 == 0:  # Se o índice for par\n",
    "        return ['background-color: #f2f2f2'] * num_columns  # Define light gray background\n",
    "    else:\n",
    "        return ['background-color: #ffffff'] * num_columns  # Define white background\n",
    "        \n",
    "def hilite_min(s):\n",
    "    is_minimo = s == s.min()\n",
    "    return ['font-weight: bold' if v else '' for v in is_minimo]\n",
    "\n",
    "def query_executions(instance, scenario, alphas):\n",
    "    instance_filter = executions if instance == 'All' else executions[executions.instance == instance]\n",
    "    scenarios_filter = instance_filter if scenario == 'All' else instance_filter[(instance_filter.scenario == scenario)]\n",
    "#                                                                                  & (instance_filter.algorithm == 'cplex')]\n",
    "    if alphas == 'All':\n",
    "        alphas_filter = scenarios_filter\n",
    "    else:\n",
    "        alphas_float = [float(alpha) for alpha in alphas]\n",
    "        alphas_filter = scenarios_filter[(scenarios_filter.alpha_time == alphas_float[0])\n",
    "                                         & (scenarios_filter.alpha_cost == alphas_float[1])\n",
    "                                         & (scenarios_filter.alpha_security == alphas_float[2])\n",
    "                                         & (scenarios_filter.alpha_restricted_candidate_list == alphas_float[3])]\n",
    "    alias = {\"num_iterations\": \"n_iter\", \"object_function\": \"O.F.\", \"makespan\": \"mspn\", \"cost\": \"cost\", \"security\": \"security\",\n",
    "             \"time\": \"time\", \"best_solution_iteration\": \"bsi\", \"best_solution_time\": \"bst\", \"lsn_time_1\": \"lsnt_1\",\n",
    "             \"lsn_noi_1\": \"lsni_1\", \"lsn_time_2\": \"lsnt_2\", \"lsn_noi_2\": \"lsni_2\", \"lsn_time_3\": \"lsnt_3\", \"lsn_noi_3\": \"lsni_3\",\n",
    "             'alpha_restricted_candidate_list': 'RCL', 'num_buckets': 'n_bckts', 'alpha_time': 'a_t', 'alpha_cost': 'a_c', \n",
    "             'alpha_security': 'a_s', 'algorithm': 'lgrthm', 'scenario': '#'}\n",
    "    alphas_filter = alphas_filter.rename(columns=alias)\n",
    "    desired_columns = ['O.F.',  'mspn',  'cost',  'security',  'time', 'n_iter',  'bsi', 'bst']\n",
    "    for column in desired_columns:\n",
    "        alphas_filter.loc[alphas_filter[column] < 0, column] = None\n",
    "    grouped_executions = alphas_filter.groupby(['lgrthm', 'instance', '#', 'a_t', 'a_c', 'a_s', 'RCL', 'n_bckts'])[desired_columns].mean()\n",
    "    grouped_executions = grouped_executions.rename(columns=alias)\n",
    "    grouped_executions_sorted = grouped_executions.sort_values(by=['instance', 'lgrthm'], ascending=True)\n",
    "    out.clear_output()\n",
    "    with out:\n",
    "        if instance == 'All':\n",
    "            display(grouped_executions_sorted.style.apply(lambda x: background_color(grouped_executions_sorted.index.get_loc(x.name), \n",
    "                                                                                     len(grouped_executions_sorted.columns)), \n",
    "                                                          axis=1))\n",
    "        else:\n",
    "            display(grouped_executions_sorted.style.apply(hilite_min))\n",
    "    out_hist.clear_output()\n",
    "    with out_hist:\n",
    "        pass\n",
    "#         data = {\n",
    "#             ('grasp', 'inst1'): [0.4],\n",
    "#             ('grch', 'inst1'): [0.5],\n",
    "#             ('grasp', 'inst2'): [0.3],\n",
    "#             ('grch', 'inst2'): [0.6]\n",
    "#         }\n",
    "#         df = pd.DataFrame(data)\n",
    "        \n",
    "#         # Renomeando as colunas do DataFrame\n",
    "#         df.columns = ['_'.join(col).strip() for col in df.columns.values]\n",
    "        \n",
    "#         # Plotando o gráfico de barras\n",
    "#         df.plot(kind='bar')\n",
    "#         plt.xlabel('Instância')\n",
    "#         plt.ylabel('Valor da função objetivo (O.F.)')\n",
    "#         plt.title('Comparação de algoritmos por instância')\n",
    "#         plt.legend(title='Algoritmo')\n",
    "#         plt.show()\n",
    "#         # data = {\n",
    "#         #     ('grasp', 'inst1'): [0.4],\n",
    "#         #     ('grch', 'inst1'): [0.5],\n",
    "#         #     ('grasp', 'inst2'): [0.3],\n",
    "#         #     ('grch', 'inst2'): [0.6]\n",
    "#         # }\n",
    "#         # df = pd.DataFrame(data)\n",
    "\n",
    "#         grouped_executions_dropped_columns = grouped_executions_sorted.drop(columns=['mspn', 'cost', 'security', 'time', 'n_iter', 'bsi', 'bst'])\n",
    "        \n",
    "#         # Renomeando as colunas do DataFrame\n",
    "#         grouped_executions_dropped_columns.columns = ['_'.join(col).strip() for col in grouped_executions_dropped_columns.columns.values]\n",
    "        \n",
    "#         # Plotando o gráfico de barras\n",
    "#         grouped_executions_dropped_columns.plot(kind='bar')\n",
    "#         plt.xlabel('Instância')\n",
    "#         plt.ylabel('Valor da função objetivo (O.F.)')\n",
    "#         plt.title('Comparação de algoritmos por instância')\n",
    "#         plt.legend(title='Algoritmo')\n",
    "#         plt.show()\n",
    "        \n",
    "#         # algorithm = grouped_executions_sorted.lgrthm.unique()\n",
    "#         # print(algorithm)\n",
    "#         # instances = grouped_executions_sorted.instance.unique()\n",
    "#         # print(instances)\n",
    "#         # grouped_executions_sorted.plot.bar(rot=0)\n",
    "#         # plt.figure()\n",
    "#         # grouped_executions_sorted.hist('O.F.')\n",
    "#         # plt.savefig('histogram.png')  # Salva a figura como 'histogram.png'\n",
    "#         # plt.close()  # Fecha a figura\n",
    "#         # # Exibe a figura dentro do widget out_hist\n",
    "#         # with open('histogram.png', 'rb') as img_file:\n",
    "#         #     img = img_file.read()\n",
    "#         #     display(widgets.Image(value=img, format='png'))\n",
    "        \n",
    "def fetch_data(output):\n",
    "    global executions\n",
    "    executions = pd.read_csv(f'{path_to_project}/{output_folder}/{output}/{output_file_name}', header='infer')\n",
    "    dd_instances.options = ['All'] + list(executions.instance.unique())\n",
    "    dd_scenarios.options = list(executions.scenario.unique())\n",
    "    if dd_scenarios.options:\n",
    "        dd_scenarios.value = dd_scenarios.options[0]\n",
    "    dd_alphas.options = list_alphas_ordered(f'{path_to_project}/{output_folder}/{output}/{output_file_name}')\n",
    "    if dd_alphas.options:\n",
    "        dd_alphas.value = dd_alphas.options[0]\n",
    "    query_executions(dd_instances.value, dd_scenarios.value, dd_alphas.value)\n",
    "\n",
    "fetch_data(dd_outputs.value)"
   ]
  },
  {
   "cell_type": "code",
   "execution_count": 96,
   "id": "b5c3a0a2-82d5-4d38-a2d9-7faf3154b5da",
   "metadata": {},
   "outputs": [],
   "source": [
    "def dd_outputs_observer(bunch):\n",
    "    fetch_data(bunch.new)\n",
    "def dd_instances_observer(bunch):\n",
    "    query_executions(bunch.new, dd_scenarios.value, dd_alphas.value)\n",
    "def dd_scenarios_observer(bunch):\n",
    "    query_executions(dd_instances.value, bunch.new, alphas.value)\n",
    "def dd_alphas_observer(bunch):\n",
    "    query_executions(dd_instances.value, dd_scenarios.value, bunch.new)"
   ]
  },
  {
   "cell_type": "code",
   "execution_count": 97,
   "id": "37d50a26-10af-444d-8673-62786c626b27",
   "metadata": {},
   "outputs": [],
   "source": [
    "dd_outputs.observe(dd_outputs_observer, names='value')\n",
    "dd_instances.observe(dd_instances_observer, names='value')\n",
    "dd_scenarios.observe(dd_scenarios_observer, names='value')\n",
    "dd_alphas.observe(dd_alphas_observer, names='value')"
   ]
  },
  {
   "cell_type": "code",
   "execution_count": 98,
   "id": "edfa7933-66a6-4b41-b2cb-e4f3fae19fe8",
   "metadata": {},
   "outputs": [
    {
     "data": {
      "application/vnd.jupyter.widget-view+json": {
       "model_id": "e7eff54b915944ed897cfb095272b551",
       "version_major": 2,
       "version_minor": 0
      },
      "text/plain": [
       "VBox(children=(HBox(children=(Dropdown(description='Output', options=('20240926074126', '20240925195831', '202…"
      ]
     },
     "metadata": {},
     "output_type": "display_data"
    }
   ],
   "source": [
    "display(vbox)"
   ]
  },
  {
   "cell_type": "code",
   "execution_count": 99,
   "id": "ba23e5eb-eb6b-4f84-810f-1206075892ec",
   "metadata": {
    "scrolled": true
   },
   "outputs": [
    {
     "data": {
      "application/vnd.jupyter.widget-view+json": {
       "model_id": "8debf1368d504eaeb3d69b520e2b71f8",
       "version_major": 2,
       "version_minor": 0
      },
      "text/plain": [
       "Tab(children=(Output(outputs=({'output_type': 'display_data', 'data': {'text/plain': '<pandas.io.formats.style…"
      ]
     },
     "metadata": {},
     "output_type": "display_data"
    }
   ],
   "source": [
    "display(tab)"
   ]
  },
  {
   "cell_type": "code",
   "execution_count": 10,
   "id": "e7375f45-b177-457a-bfac-cc13471f119b",
   "metadata": {},
   "outputs": [],
   "source": [
    "# display(out_hist)"
   ]
  },
  {
   "cell_type": "code",
   "execution_count": 11,
   "id": "de5a2380-96f6-480d-8927-fb914ed88fbf",
   "metadata": {},
   "outputs": [
    {
     "name": "stdout",
     "output_type": "stream",
     "text": [
      "DataFrame original:\n",
      "    A   B\n",
      "0  11  44\n",
      "1  22  55\n",
      "2  33  66\n",
      "\n",
      "Índice numérico das linhas:\n",
      "RangeIndex(start=0, stop=3, step=1)\n",
      "2\n"
     ]
    }
   ],
   "source": [
    "import pandas as pd\n",
    "\n",
    "# Criar um exemplo de DataFrame\n",
    "df = pd.DataFrame({'A': [11, 22, 33], 'B': [44, 55, 66]})\n",
    "\n",
    "# Imprimir o DataFrame original\n",
    "print(\"DataFrame original:\")\n",
    "print(df)\n",
    "\n",
    "# Obter o índice numérico das linhas\n",
    "indice_numerico = df.index\n",
    "\n",
    "# Imprimir o índice numérico\n",
    "print(\"\\nÍndice numérico das linhas:\")\n",
    "print(indice_numerico)\n",
    "print(indice_numerico[2])"
   ]
  },
  {
   "cell_type": "code",
   "execution_count": 12,
   "id": "4810dd42-2e1c-4082-9c60-4184b94baf27",
   "metadata": {},
   "outputs": [
    {
     "name": "stdout",
     "output_type": "stream",
     "text": [
      "A posição do índice ('A', 1) é: 0\n",
      "A posição do índice ('A', 2) é: 1\n",
      "A posição do índice ('B', 1) é: 2\n",
      "A posição do índice ('B', 2) é: 3\n"
     ]
    },
    {
     "data": {
      "text/html": [
       "<div>\n",
       "<style scoped>\n",
       "    .dataframe tbody tr th:only-of-type {\n",
       "        vertical-align: middle;\n",
       "    }\n",
       "\n",
       "    .dataframe tbody tr th {\n",
       "        vertical-align: top;\n",
       "    }\n",
       "\n",
       "    .dataframe thead th {\n",
       "        text-align: right;\n",
       "    }\n",
       "</style>\n",
       "<table border=\"1\" class=\"dataframe\">\n",
       "  <thead>\n",
       "    <tr style=\"text-align: right;\">\n",
       "      <th></th>\n",
       "      <th></th>\n",
       "      <th>data</th>\n",
       "    </tr>\n",
       "    <tr>\n",
       "      <th>first</th>\n",
       "      <th>second</th>\n",
       "      <th></th>\n",
       "    </tr>\n",
       "  </thead>\n",
       "  <tbody>\n",
       "    <tr>\n",
       "      <th rowspan=\"2\" valign=\"top\">A</th>\n",
       "      <th>1</th>\n",
       "      <td>5</td>\n",
       "    </tr>\n",
       "    <tr>\n",
       "      <th>2</th>\n",
       "      <td>6</td>\n",
       "    </tr>\n",
       "    <tr>\n",
       "      <th rowspan=\"2\" valign=\"top\">B</th>\n",
       "      <th>1</th>\n",
       "      <td>7</td>\n",
       "    </tr>\n",
       "    <tr>\n",
       "      <th>2</th>\n",
       "      <td>8</td>\n",
       "    </tr>\n",
       "  </tbody>\n",
       "</table>\n",
       "</div>"
      ],
      "text/plain": [
       "              data\n",
       "first second      \n",
       "A     1          5\n",
       "      2          6\n",
       "B     1          7\n",
       "      2          8"
      ]
     },
     "execution_count": 12,
     "metadata": {},
     "output_type": "execute_result"
    }
   ],
   "source": [
    "import pandas as pd\n",
    "\n",
    "# Criar um exemplo de DataFrame com MultiIndex\n",
    "arrays = [\n",
    "    ['A', 'A', 'B', 'B'],\n",
    "    [1, 2, 1, 2]\n",
    "]\n",
    "tuples = list(zip(*arrays))\n",
    "index = pd.MultiIndex.from_tuples(tuples, names=['first', 'second'])\n",
    "df = pd.DataFrame({'data': [5, 6, 7, 8]}, index=index)\n",
    "\n",
    "# Obter a posição do índice 'A' na primeira coluna do MultiIndex\n",
    "posicao = df.index.get_loc(('A', 1))\n",
    "print(\"A posição do índice ('A', 1) é:\", posicao)\n",
    "posicao = df.index.get_loc(('A', 2))\n",
    "print(\"A posição do índice ('A', 2) é:\", posicao)\n",
    "posicao = df.index.get_loc(('B', 1))\n",
    "print(\"A posição do índice ('B', 1) é:\", posicao)\n",
    "posicao = df.index.get_loc(('B', 2))\n",
    "print(\"A posição do índice ('B', 2) é:\", posicao)\n",
    "df"
   ]
  }
 ],
 "metadata": {
  "kernelspec": {
   "display_name": "Python 3 (ipykernel)",
   "language": "python",
   "name": "python3"
  },
  "language_info": {
   "codemirror_mode": {
    "name": "ipython",
    "version": 3
   },
   "file_extension": ".py",
   "mimetype": "text/x-python",
   "name": "python",
   "nbconvert_exporter": "python",
   "pygments_lexer": "ipython3",
   "version": "3.10.12"
  },
  "vscode": {
   "interpreter": {
    "hash": "0e5b5b920195072d4a4eec1d5ff9e5f87252d2725e2a57da6939cd4fcd91d4cd"
   }
  }
 },
 "nbformat": 4,
 "nbformat_minor": 5
}
