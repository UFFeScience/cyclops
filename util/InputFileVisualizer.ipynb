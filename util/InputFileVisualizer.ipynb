{
 "cells": [
  {
   "cell_type": "code",
   "execution_count": 2,
   "metadata": {
    "execution": {
     "iopub.execute_input": "2022-05-20T16:44:09.600Z",
     "iopub.status.busy": "2022-05-20T16:44:09.587Z",
     "iopub.status.idle": "2022-05-20T16:44:12.573Z",
     "shell.execute_reply": "2022-05-20T16:44:12.613Z"
    },
    "jupyter": {
     "outputs_hidden": false,
     "source_hidden": false
    },
    "nteract": {
     "transient": {
      "deleting": false
     }
    },
    "pycharm": {
     "name": "#%%\n"
    }
   },
   "outputs": [
    {
     "ename": "SyntaxError",
     "evalue": "invalid syntax (1977041728.py, line 3)",
     "output_type": "error",
     "traceback": [
      "\u001b[0;36m  File \u001b[0;32m\"/tmp/ipykernel_457195/1977041728.py\"\u001b[0;36m, line \u001b[0;32m3\u001b[0m\n\u001b[0;31m    pip install --global-option=build_ext --global-option=\"-ID:\\Program Files\\Graphviz\\include\" --global-option=\"-LD:\\Program Files\\Graphviz\\lib\" pygraphviz\u001b[0m\n\u001b[0m        ^\u001b[0m\n\u001b[0;31mSyntaxError\u001b[0m\u001b[0;31m:\u001b[0m invalid syntax\n"
     ]
    }
   ],
   "source": [
    "import os\n",
    "\n",
    "pip install --global-option=build_ext --global-option=\"-ID:\\Program Files\\Graphviz\\include\" --global-option=\"-LD:\\Program Files\\Graphviz\\lib\" pygraphviz\n",
    "pip install pydot\n",
    "pip install graphviz"
   ]
  },
  {
   "cell_type": "code",
   "execution_count": 3,
   "metadata": {
    "execution": {
     "iopub.execute_input": "2022-05-20T16:44:12.593Z",
     "iopub.status.busy": "2022-05-20T16:44:12.584Z",
     "iopub.status.idle": "2022-05-20T16:44:33.659Z",
     "shell.execute_reply": "2022-05-20T16:44:33.646Z"
    },
    "pycharm": {
     "name": "#%%\n"
    }
   },
   "outputs": [],
   "source": [
    "from scipy.cluster.hierarchy import dendrogram\n",
    "# import networkx as nx\n",
    "# import matplotlib.pyplot as plt\n",
    "\n",
    "# import networkx as nx\n",
    "import pylab as plt\n",
    "# from networkx.drawing.nx_agraph import graphviz_layout, to_agraph\n",
    "import pygraphviz as pgv\n"
   ]
  },
  {
   "cell_type": "code",
   "execution_count": 9,
   "metadata": {
    "execution": {
     "iopub.execute_input": "2022-05-20T16:44:33.675Z",
     "iopub.status.busy": "2022-05-20T16:44:33.668Z",
     "iopub.status.idle": "2022-05-20T16:44:33.680Z",
     "shell.execute_reply": "2022-05-20T16:44:33.649Z"
    },
    "pycharm": {
     "name": "#%%\n"
    }
   },
   "outputs": [],
   "source": [
    "# task_and_file_in = open(folder + '/' + file_name)"
   ]
  },
  {
   "cell_type": "code",
   "execution_count": 7,
   "metadata": {
    "execution": {
     "iopub.execute_input": "2022-05-20T16:45:19.758Z",
     "iopub.status.busy": "2022-05-20T16:45:19.753Z",
     "iopub.status.idle": "2022-05-20T16:45:19.907Z",
     "shell.execute_reply": "2022-05-20T16:45:19.916Z"
    },
    "pycharm": {
     "is_executing": true,
     "name": "#%%\n"
    }
   },
   "outputs": [],
   "source": [
    "from pygraphviz import Node\n",
    "from lib2to3.fixer_util import Dot\n",
    "# import required module\n",
    "import os\n",
    "import networkx as nx\n",
    "import pydot\n",
    "import pygraphviz as pgv\n",
    "from graphviz import Digraph\n",
    "# folder = 'D:\\\\Rodrigo\\\\my-dev\\\\uff\\\\Wf-Security\\\\heuristic_and_exact_solutions\\\\input\\\\tasks_and_files'\n",
    "folder = '/home/wsl/git/Wf-Security/util/Input'\n",
    "\n",
    "\n",
    "# file_name = '3_toy_10_C.dag'\n",
    "def create_picture(file_name):\n",
    "    with open(folder + '\\\\' + file_name) as task_and_file_in:\n",
    "        # has_first = False\n",
    "\n",
    "        nodes = []\n",
    "        G = pgv.AGraph(ordering='out')\n",
    "        # G.add_node('key', shape=\"box\", label='File', group=0)\n",
    "        # G.add_node('key2', shape=\"ellipse\", label='Activation', group=0)\n",
    "\n",
    "        # G = pgv.AGraph('D:\\\\Rodrigo\\\\my-dev\\\\uff\\\\Wf-Security\\\\util\\\\legend.dot')\n",
    "        # G.layout(\"dot\")\n",
    "        # read the header\n",
    "        one_line = task_and_file_in.readline()\n",
    "        header = one_line.split()\n",
    "        num_static_files = header[0]\n",
    "        num_dynamic_files = header[1]\n",
    "        num_tasks = header[2]\n",
    "        print(num_static_files, num_dynamic_files, num_tasks)\n",
    "\n",
    "        # read a blank line\n",
    "        task_and_file_in.readline()\n",
    "\n",
    "        # read two lines of security request\n",
    "        task_and_file_in.readline()\n",
    "        task_and_file_in.readline()\n",
    "\n",
    "        # read a blank line\n",
    "        task_and_file_in.readline()\n",
    "\n",
    "        # read and store the static files in a dictionary named files\n",
    "        files = {}\n",
    "        for i in range(int(num_static_files)):\n",
    "            one_line = task_and_file_in.readline()\n",
    "            static_file_data = one_line.split()\n",
    "            print(static_file_data)\n",
    "            files[static_file_data[0]] = [ static_file_data[0], float(static_file_data[1]), int(static_file_data[3]) ]\n",
    "            G.add_node(static_file_data[0], shape=\"box\", label=static_file_data[0])\n",
    "            nodes.append(static_file_data[0])\n",
    "            # if (not has_first):\n",
    "            #     has_first = True\n",
    "            #     first = static_file_data[0]\n",
    "        #         print(static_file_data[0], static_file_data[1], static_file_data[2], static_file_data[3])\n",
    "\n",
    "        # read and store the dynamic files in a dictionary named files\n",
    "        for i in range(int(num_dynamic_files)):\n",
    "            one_line = task_and_file_in.readline()\n",
    "            dynamic_file_data = one_line.split()\n",
    "            files[dynamic_file_data[0]] = [ dynamic_file_data[0], float(dynamic_file_data[1])]\n",
    "            G.add_node(dynamic_file_data[0], shape=\"box\", label=dynamic_file_data[0])\n",
    "            nodes.append(dynamic_file_data[0])\n",
    "            # if (not has_first):\n",
    "            #     has_first = True\n",
    "            #     first = dynamic_file_data[0]\n",
    "    #         print(dynamic_file_data[0], dynamic_file_data[1])\n",
    "\n",
    "        # read a blank line\n",
    "        task_and_file_in.readline()\n",
    "\n",
    "        # read and store tasks in a dictionary named tasks and associate input and output files\n",
    "        tasks = {}\n",
    "        for i in range(int(num_tasks)):\n",
    "            one_line = task_and_file_in.readline()\n",
    "            task_data = one_line.split()\n",
    "            # task_data: id, name, execution_time, num_input, num_output\n",
    "            task_id = task_data[0]\n",
    "            G.add_node(task_id)\n",
    "            nodes.append(task_id)\n",
    "            # if (not has_first):\n",
    "            #     has_first = True\n",
    "            #     first = task_id\n",
    "            task_name = task_data[1]\n",
    "            task_execution_time = float(task_data[2])\n",
    "            # read input files\n",
    "            num_input = int(task_data[3])\n",
    "            input_file_list = []\n",
    "            for o in range(num_input):\n",
    "                one_line = task_and_file_in.readline()\n",
    "                file = files[one_line.strip()]\n",
    "                input_file_list.append(file)\n",
    "                G.add_edge(file[0], task_id)\n",
    "            # read output files\n",
    "            num_output = int(task_data[4])\n",
    "            output_file_list = []\n",
    "            for o in range(num_output):\n",
    "                one_line = task_and_file_in.readline()\n",
    "                file = files[one_line.strip()]\n",
    "                output_file_list.append(file)\n",
    "                G.add_edge(task_id, file[0])\n",
    "            # including task to the tasks dictionary\n",
    "            tasks[task_id] = [ task_name, task_execution_time, input_file_list, output_file_list ]\n",
    "\n",
    "        # read a blank line\n",
    "        task_and_file_in.readline()\n",
    "\n",
    "        # G.subgraph(name='cluster_2', label='Legends', rankdir='BT', rank='same')\n",
    "\n",
    "        # c1 = G.subgraphs()[-1]\n",
    "        G.add_node('key', shape=\"box\", label='File')\n",
    "        G.add_node('key2', shape=\"ellipse\", label='Activation')\n",
    "\n",
    "        # G.graph_attr.update(rankdir=\"TB\")\n",
    "        # G.subgraph(name='cluster_2', [ 'key', 'key2'] )\n",
    "        G.add_subgraph(nodes, name='bodega')\n",
    "        G.add_subgraph([ 'key', 'key2'], name='cluster_2', label='Legends')\n",
    "        # G.add_edge('bodega', 'cluster_2')\n",
    "\n",
    "        # c1.layout('dot')\n",
    "\n",
    "\n",
    "        # Visualize\n",
    "        # g = Dot()\n",
    "        # G.set_node_defaults(color='lightgray',\n",
    "        #                     style='filled',\n",
    "        #                     shape='box',\n",
    "        #                     fontname='Courier',\n",
    "        #                     fontsize='10')\n",
    "        # if len(self.nodes) == 1:\n",
    "        # G.add_node(Node('Buga'))\n",
    "        # else:\n",
    "        #     for node in sorted(self.nodes, key=lambda x: x.num):\n",
    "        #         for suc in self.sucs(node):\n",
    "        #             g.add_edge(Edge(str(node), str(suc), color='blue'))\n",
    "        #         for except_node in self.catch_edges.get(node, []):\n",
    "        #             g.add_edge(Edge(str(node),\n",
    "        #                             str(except_node),\n",
    "        #                             color='black',\n",
    "        #                             style='dashed'))\n",
    "        # G.legend(loc=\"upper left\")\n",
    "        # G.subgraph(name=\"cluster_1\", label='str(', color='grey', style='dotted')\n",
    "\n",
    "        # G.subgraph(name='cluster%d',\n",
    "        #               style='filled',\n",
    "        #               color='red',\n",
    "        #               label='group')\n",
    "\n",
    "        # G.subgraph( {\n",
    "        #     \"label\": \"Legend\",\n",
    "        #     \"key\": \"[\"\"label\"\"=<<table border=\"\"0\"\" cellpadding=\"\"2\"\" cellspacing=\"\"0\"\" cellborder=\"\"0\"\">\"\n",
    "        #            \"<tr><td align=\"\"right\"\" port=\"\"i1\"\">item 1</td></tr>\"\n",
    "        #            \"<tr><td align=\"\"right\"\" port=\"\"i2\"\">item 2</td></tr>\"\n",
    "        #            \"<tr><td align=\"\"right\"\" port=\"\"i3\"\">item 3</td></tr>\"\n",
    "        #            \"<tr><td align=\"\"right\"\" port=\"\"i4\"\">item 4</td></tr>\"\n",
    "        #            \"</table>>]\",\n",
    "        #     \"key2\": \"[label=<<table border=\"\"0\"\" cellpadding=\"\"2\"\" cellspacing=\"\"0\"\" cellborder=\"\"0\"\">\"\n",
    "        #             \"<tr><td port=\"\"i1\"\">&nbsp;</td></tr>\"\n",
    "        #             \"<tr><td port=\"\"i2\"\">&nbsp;</td></tr>\"\n",
    "        #             \"<tr><td port=\"\"i3\"\">&nbsp;</td></tr>\"\n",
    "        #             \"<tr><td port=\"\"i4\"\">&nbsp;</td></tr>\"\n",
    "        #             \"</table>>]\",\n",
    "        #     \"key:i1:e -> key2:i1:w [style=dashed]\"\n",
    "        #     \"key:i2:e -> key2:i2:w [color=gray]\"\n",
    "        #     \"key:i3:e -> key2:i3:w [color=peachpuff3]\"\n",
    "        #     \"key:i4:e -> key2:i4:w [color=turquoise4, style=dotted]\"\n",
    "        # })\n",
    "\n",
    "    #     dendrogram(Z, labels=leaves)\n",
    "    #     b = pgv.AGraph('D:\\\\Rodrigo\\\\my-dev\\\\uff\\\\Wf-Security\\\\util\\\\legend.dot')\n",
    "    #     b.layout(\"dot\")\n",
    "        # b.draw(\"file.png\")\n",
    "        #\n",
    "        # G.add_node('key')\n",
    "        # G.add_node('key2')\n",
    "        # G.add_node('value')\n",
    "        # G.add_node('value2')\n",
    "        # G.subgraph(b)\n",
    "        # G.add_nodes_from(b)\n",
    "        # G.subgraph(b)\n",
    "        # boo = nx.subgraph(G, ['key', 'key2'])\n",
    "        # A = nx.nx_agraph.to_agraph(boo)\n",
    "        # A.add_subgraph(b)\n",
    "        # A.graph_attr.update(rankdir=\"LR\")\n",
    "\n",
    "        # A.add_subgraph(name='cluster_2', label='Legends', rank='10000', rankdir='LR')\n",
    "        # c1 = A.subgraphs()[-1]\n",
    "        # c1.add_node('key', shape=\"box\", label='File', rank=2000)\n",
    "        # c1.add_node('key2', shape=\"ellipse\", label='Activation', rank=2001)\n",
    "        # if (has_first):\n",
    "        #     A.add_edge(first, 'key', style = 'invis')\n",
    "        # A.graph_attr.update(landscape=\"false\", ranksep=\"0.1\")\n",
    "        # A.subgraph = b\n",
    "        # A.add_node('key')\n",
    "        # A.add_node('key2')\n",
    "        # A.add_node('value')\n",
    "        # A.add_node('value2')\n",
    "        # A.add_subgraph(b)\n",
    "        # g = pydot.Dot()\n",
    "        # g.set_type('digraph')\n",
    "        # node = pydot.Node('legend')\n",
    "        # node.set(\"shape\", 'box')\n",
    "        # g.add_node(node)\n",
    "        # node.set('label', 'mine')\n",
    "        # s = g.to_string()\n",
    "        # expected = 'digraph G {\\nlegend [label=mine, shape=box];\\n}\\n'\n",
    "        # assert s == expected\n",
    "        # A.subgraph(g)\n",
    "        # A.subgraph(nbunch='tables',\n",
    "        #            name='cluster%d',\n",
    "        #            style='filled',\n",
    "        #            color='white',\n",
    "        #            label='buga buga buga')\n",
    "        # print(A)\n",
    "        G.layout('dot')\n",
    "        G.draw(file_name + '.png')\n",
    "\n",
    "\n",
    "    #     plt.show()\n",
    "for file_name in os.listdir(folder):\n",
    "    if file_name.startswith('Sipht_030'):\n",
    "        create_picture(file_name)\n"
   ]
  },
  {
   "cell_type": "code",
   "execution_count": 56,
   "metadata": {
    "execution": {
     "iopub.execute_input": "2022-05-20T16:44:35.569Z",
     "iopub.status.busy": "2022-05-20T16:44:35.565Z",
     "iopub.status.idle": "2022-05-20T16:44:35.573Z",
     "shell.execute_reply": "2022-05-20T16:44:35.541Z"
    },
    "pycharm": {
     "name": "#%%\n"
    }
   },
   "outputs": [],
   "source": [
    "# task_and_file_in.close()"
   ]
  },
  {
   "cell_type": "code",
   "execution_count": null,
   "metadata": {
    "execution": {
     "iopub.execute_input": "2022-05-20T16:44:35.582Z",
     "iopub.status.busy": "2022-05-20T16:44:35.579Z",
     "iopub.status.idle": "2022-05-20T16:44:35.586Z",
     "shell.execute_reply": "2022-05-20T16:44:35.547Z"
    },
    "pycharm": {
     "name": "#%%\n"
    }
   },
   "outputs": [],
   "source": [
    "# conda install pygraphviz"
   ]
  }
 ],
 "metadata": {
  "kernelspec": {
   "display_name": "Python 3 (ipykernel)",
   "language": "python",
   "name": "python3"
  },
  "language_info": {
   "codemirror_mode": {
    "name": "ipython",
    "version": 3
   },
   "file_extension": ".py",
   "mimetype": "text/x-python",
   "name": "python",
   "nbconvert_exporter": "python",
   "pygments_lexer": "ipython3",
   "version": "3.10.12"
  },
  "nteract": {
   "version": "0.28.0"
  }
 },
 "nbformat": 4,
 "nbformat_minor": 2
}
