{
 "cells": [
  {
   "cell_type": "code",
   "execution_count": 16,
   "metadata": {
    "execution": {
     "iopub.execute_input": "2022-02-24T00:10:08.108Z",
     "iopub.status.busy": "2022-02-24T00:10:08.103Z",
     "iopub.status.idle": "2022-02-24T00:10:14.288Z",
     "shell.execute_reply": "2022-02-24T00:10:14.281Z"
    }
   },
   "outputs": [],
   "source": [
    "# pip install networkx\n",
    "# import sys\n",
    "# sys.executable\n",
    "import networkx as nx\n",
    "import matplotlib.pyplot as plt"
   ]
  },
  {
   "cell_type": "code",
   "execution_count": 17,
   "metadata": {
    "execution": {
     "iopub.execute_input": "2022-02-24T00:10:14.298Z",
     "iopub.status.busy": "2022-02-24T00:10:14.293Z",
     "iopub.status.idle": "2022-02-24T00:10:14.307Z",
     "shell.execute_reply": "2022-02-24T00:10:14.389Z"
    }
   },
   "outputs": [
    {
     "name": "stdout",
     "output_type": "stream",
     "text": [
      "[]\n",
      "[]\n",
      "<class 'networkx.classes.reportviews.NodeView'>\n",
      "<class 'networkx.classes.reportviews.EdgeView'>\n"
     ]
    }
   ],
   "source": [
    "G = nx.Graph()\n",
    "\n",
    "print(G.nodes())\n",
    "print(G.edges())\n",
    "\n",
    "print(type(G.nodes()))\n",
    "print(type(G.edges()))"
   ]
  },
  {
   "cell_type": "code",
   "execution_count": 18,
   "metadata": {
    "execution": {
     "iopub.execute_input": "2022-02-24T00:10:14.321Z",
     "iopub.status.busy": "2022-02-24T00:10:14.314Z",
     "iopub.status.idle": "2022-02-24T00:10:14.332Z",
     "shell.execute_reply": "2022-02-24T00:10:14.391Z"
    }
   },
   "outputs": [
    {
     "name": "stdout",
     "output_type": "stream",
     "text": [
      "Nodes of graph: \n",
      "['a', 'b', 'c']\n",
      "Edges of graph: \n",
      "[]\n"
     ]
    }
   ],
   "source": [
    "# adding just one node:\n",
    "G.add_node(\"a\")\n",
    "# a list of nodes:\n",
    "G.add_nodes_from([\"b\",\"c\"])\n",
    "\n",
    "print(\"Nodes of graph: \")\n",
    "print(G.nodes())\n",
    "print(\"Edges of graph: \")\n",
    "print(G.edges())"
   ]
  },
  {
   "cell_type": "code",
   "execution_count": 19,
   "metadata": {
    "execution": {
     "iopub.execute_input": "2022-02-24T00:10:14.341Z",
     "iopub.status.busy": "2022-02-24T00:10:14.337Z",
     "iopub.status.idle": "2022-02-24T00:10:14.351Z",
     "shell.execute_reply": "2022-02-24T00:10:14.395Z"
    }
   },
   "outputs": [
    {
     "name": "stdout",
     "output_type": "stream",
     "text": [
      "Nodes of graph: \n",
      "['a', 'b', 'c']\n",
      "Edges of graph: \n",
      "[]\n"
     ]
    }
   ],
   "source": [
    "# adding just one node:\n",
    "G.add_node(\"a\")\n",
    "# a list of nodes:\n",
    "G.add_nodes_from([\"b\",\"c\"])\n",
    "\n",
    "print(\"Nodes of graph: \")\n",
    "print(G.nodes())\n",
    "print(\"Edges of graph: \")\n",
    "print(G.edges())"
   ]
  },
  {
   "cell_type": "code",
   "execution_count": 20,
   "metadata": {
    "execution": {
     "iopub.execute_input": "2022-02-24T00:10:14.358Z",
     "iopub.status.busy": "2022-02-24T00:10:14.355Z",
     "iopub.status.idle": "2022-02-24T00:10:14.367Z",
     "shell.execute_reply": "2022-02-24T00:10:14.397Z"
    }
   },
   "outputs": [
    {
     "name": "stdout",
     "output_type": "stream",
     "text": [
      "Nodes of graph: \n",
      "['a', 'b', 'c', 1, 2, 'd', 'e']\n",
      "Edges of graph: \n",
      "[('a', 'b'), (1, 2), ('d', 'e')]\n"
     ]
    }
   ],
   "source": [
    "G.add_node(\"a\")\n",
    "G.add_nodes_from([\"b\",\"c\"])\n",
    "\n",
    "G.add_edge(1,2)\n",
    "edge = (\"d\", \"e\")\n",
    "G.add_edge(*edge)\n",
    "edge = (\"a\", \"b\")\n",
    "G.add_edge(*edge)\n",
    "\n",
    "print(\"Nodes of graph: \")\n",
    "print(G.nodes())\n",
    "print(\"Edges of graph: \")\n",
    "print(G.edges())"
   ]
  },
  {
   "cell_type": "code",
   "execution_count": 21,
   "metadata": {
    "execution": {
     "iopub.execute_input": "2022-02-24T00:10:14.376Z",
     "iopub.status.busy": "2022-02-24T00:10:14.373Z",
     "iopub.status.idle": "2022-02-24T00:10:14.411Z",
     "shell.execute_reply": "2022-02-24T00:10:14.418Z"
    }
   },
   "outputs": [
    {
     "data": {
      "image/png": "[encoded data removed]",
      "text/plain": [
       "<Figure size 432x288 with 1 Axes>"
      ]
     },
     "metadata": {},
     "output_type": "display_data"
    }
   ],
   "source": [
    "nx.draw(G)\n",
    "plt.show()"
   ]
  }
 ],
 "metadata": {
  "kernelspec": {
   "display_name": "Python 3 (ipykernel)",
   "language": "python",
   "name": "python3"
  },
  "language_info": {
   "codemirror_mode": {
    "name": "ipython",
    "version": 3
   },
   "file_extension": ".py",
   "mimetype": "text/x-python",
   "name": "python",
   "nbconvert_exporter": "python",
   "pygments_lexer": "ipython3",
   "version": "3.10.12"
  },
  "nteract": {
   "version": "0.28.0"
  }
 },
 "nbformat": 4,
 "nbformat_minor": 4
}
